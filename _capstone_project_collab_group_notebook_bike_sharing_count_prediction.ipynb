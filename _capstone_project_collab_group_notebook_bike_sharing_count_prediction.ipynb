{
  "cells": [
    {
      "cell_type": "markdown",
      "metadata": {
        "id": "view-in-github",
        "colab_type": "text"
      },
      "source": [
        "<a href=\"https://colab.research.google.com/github/Somya2119/Capston-Project-Bike-Sharing-Count-Prediction/blob/main/_capstone_project_collab_group_notebook_bike_sharing_count_prediction.ipynb\" target=\"_parent\"><img src=\"https://colab.research.google.com/assets/colab-badge.svg\" alt=\"Open In Colab\"/></a>"
      ]
    },
    {
      "cell_type": "markdown",
      "metadata": {
        "id": "vncDsAP0Gaoa"
      },
      "source": [
        "# **Project Name**    - Bike Sharing Price Prediction\n",
        "\n"
      ]
    },
    {
      "cell_type": "markdown",
      "metadata": {
        "id": "beRrZCGUAJYm"
      },
      "source": [
        "##### **Project Type**    - Regression\n",
        "##### **individual -** - Somya Jain\n",
        "\n"
      ]
    },
    {
      "cell_type": "markdown",
      "metadata": {
        "id": "FJNUwmbgGyua"
      },
      "source": [
        "# **Project Summary -**"
      ]
    },
    {
      "cell_type": "markdown",
      "source": [],
      "metadata": {
        "id": "cXwYLwZc2zCd"
      }
    },
    {
      "cell_type": "markdown",
      "metadata": {
        "id": "F6v_1wHtG2nS"
      },
      "source": [
        " First we do Exploratory Data Analysis on the data set. We look for missing data values,duplicates values (none were found) and outliers and appropriately modify them. we have seen relation b/w numeric features and dependent variables and seen seasonwise and weekdays- weekend monthly distribution of rented bike count. We also perform correlation analysis to extract out the important and relevant feature set and later perform feature engineering to modify few existing columns and drop out irrelavant ones.we have seen skewness in data set  and to remove skewness we have used square root transforming.\n",
        "\n",
        "We then look at several popular individual models from simple ones like Linear Regressor and Regularization Models (Ridge and Lasso) to more complicated ensemble ones like Decision Tree, Random Forest, XG Boost and Light GBM. \n"
      ]
    },
    {
      "cell_type": "markdown",
      "metadata": {
        "id": "w6K7xa23Elo4"
      },
      "source": [
        "# **GitHub Link -**"
      ]
    },
    {
      "cell_type": "markdown",
      "metadata": {
        "id": "h1o69JH3Eqqn"
      },
      "source": [
        "Provide your GitHub Link here.  https://github.com/Somya2119/Capston-Project-Bike-Sharing-Count-Prediction.git"
      ]
    },
    {
      "cell_type": "markdown",
      "metadata": {
        "id": "yQaldy8SH6Dl"
      },
      "source": [
        "# **Problem Statement**\n"
      ]
    },
    {
      "cell_type": "markdown",
      "metadata": {
        "id": "DpeJGUA3kjGy"
      },
      "source": [
        "**Currently Rental bikes are introduced in many urban cities for the enhancement of mobility comfort. It is important to make the rental bike available and accessible to the public at the right time as it lessens the waiting time. Eventually, providing the city with a stable supply of rental bikes becomes a major concern. The crucial part is the prediction of bike count required at each hour for the stable supply of rental bikes.**"
      ]
    },
    {
      "cell_type": "markdown",
      "metadata": {
        "id": "O_i_v8NEhb9l"
      },
      "source": [
        "# ***Let's Begin !***"
      ]
    },
    {
      "cell_type": "markdown",
      "metadata": {
        "id": "HhfV-JJviCcP"
      },
      "source": [
        "## ***1. Know Your Data***"
      ]
    },
    {
      "cell_type": "markdown",
      "metadata": {
        "id": "Y3lxredqlCYt"
      },
      "source": [
        "### Import Libraries"
      ]
    },
    {
      "cell_type": "code",
      "execution_count": null,
      "metadata": {
        "id": "M8Vqi-pPk-HR",
        "colab": {
          "base_uri": "https://localhost:8080/"
        },
        "outputId": "682cd8a5-0fce-4dbe-a101-f361833f4549"
      },
      "outputs": [
        {
          "output_type": "stream",
          "name": "stdout",
          "text": [
            "Looking in indexes: https://pypi.org/simple, https://us-python.pkg.dev/colab-wheels/public/simple/\n",
            "Collecting shap==0.40.0\n",
            "  Downloading shap-0.40.0-cp39-cp39-manylinux2010_x86_64.whl (567 kB)\n",
            "\u001b[2K     \u001b[90m━━━━━━━━━━━━━━━━━━━━━━━━━━━━━━━━━━━━━━\u001b[0m \u001b[32m567.6/567.6 KB\u001b[0m \u001b[31m11.3 MB/s\u001b[0m eta \u001b[36m0:00:00\u001b[0m\n",
            "\u001b[?25hRequirement already satisfied: tqdm>4.25.0 in /usr/local/lib/python3.9/dist-packages (from shap==0.40.0) (4.65.0)\n",
            "Collecting slicer==0.0.7\n",
            "  Downloading slicer-0.0.7-py3-none-any.whl (14 kB)\n",
            "Requirement already satisfied: numba in /usr/local/lib/python3.9/dist-packages (from shap==0.40.0) (0.56.4)\n",
            "Requirement already satisfied: numpy in /usr/local/lib/python3.9/dist-packages (from shap==0.40.0) (1.22.4)\n",
            "Requirement already satisfied: packaging>20.9 in /usr/local/lib/python3.9/dist-packages (from shap==0.40.0) (23.0)\n",
            "Requirement already satisfied: cloudpickle in /usr/local/lib/python3.9/dist-packages (from shap==0.40.0) (2.2.1)\n",
            "Requirement already satisfied: scikit-learn in /usr/local/lib/python3.9/dist-packages (from shap==0.40.0) (1.2.2)\n",
            "Requirement already satisfied: pandas in /usr/local/lib/python3.9/dist-packages (from shap==0.40.0) (1.4.4)\n",
            "Requirement already satisfied: scipy in /usr/local/lib/python3.9/dist-packages (from shap==0.40.0) (1.10.1)\n",
            "Requirement already satisfied: setuptools in /usr/local/lib/python3.9/dist-packages (from numba->shap==0.40.0) (67.6.1)\n",
            "Requirement already satisfied: llvmlite<0.40,>=0.39.0dev0 in /usr/local/lib/python3.9/dist-packages (from numba->shap==0.40.0) (0.39.1)\n",
            "Requirement already satisfied: pytz>=2020.1 in /usr/local/lib/python3.9/dist-packages (from pandas->shap==0.40.0) (2022.7.1)\n",
            "Requirement already satisfied: python-dateutil>=2.8.1 in /usr/local/lib/python3.9/dist-packages (from pandas->shap==0.40.0) (2.8.2)\n",
            "Requirement already satisfied: joblib>=1.1.1 in /usr/local/lib/python3.9/dist-packages (from scikit-learn->shap==0.40.0) (1.1.1)\n",
            "Requirement already satisfied: threadpoolctl>=2.0.0 in /usr/local/lib/python3.9/dist-packages (from scikit-learn->shap==0.40.0) (3.1.0)\n",
            "Requirement already satisfied: six>=1.5 in /usr/local/lib/python3.9/dist-packages (from python-dateutil>=2.8.1->pandas->shap==0.40.0) (1.16.0)\n",
            "Installing collected packages: slicer, shap\n",
            "Successfully installed shap-0.40.0 slicer-0.0.7\n"
          ]
        }
      ],
      "source": [
        "# Import Libraries\n",
        "import numpy as np\n",
        "import pandas as pd\n",
        "from numpy import math\n",
        "from numpy import loadtxt\n",
        "import seaborn as sns\n",
        "import matplotlib.pyplot as plt\n",
        "%matplotlib inline\n",
        "from matplotlib import rcParams\n",
        "\n",
        "from scipy.stats import *\n",
        "import math\n",
        "\n",
        "from statsmodels.stats.outliers_influence import variance_inflation_factor\n",
        "from sklearn.preprocessing import StandardScaler\n",
        "from sklearn.preprocessing import MinMaxScaler\n",
        "from sklearn.model_selection import train_test_split\n",
        "from imblearn.over_sampling import SMOTE\n",
        "from sklearn.linear_model import LinearRegression\n",
        "from sklearn.linear_model import LogisticRegression\n",
        "from sklearn.tree import DecisionTreeClassifier \n",
        "from sklearn.ensemble import RandomForestClassifier\n",
        "from sklearn.metrics import accuracy_score, confusion_matrix\n",
        "from sklearn import metrics\n",
        "from sklearn.metrics import mean_absolute_error\n",
        "from sklearn.metrics import r2_score\n",
        "from sklearn.metrics import mean_squared_error\n",
        "from sklearn.metrics import roc_curve\n",
        "from sklearn.model_selection import GridSearchCV\n",
        "from sklearn.model_selection import RepeatedStratifiedKFold\n",
        "from xgboost import XGBClassifier\n",
        "from xgboost import XGBRFClassifier\n",
        "from sklearn.tree import export_graphviz\n",
        "\n",
        "!pip install shap==0.40.0\n",
        "import shap \n",
        "import graphviz\n",
        "sns.set_style('darkgrid') \n",
        "\n",
        "import warnings\n",
        "warnings.filterwarnings('ignore')"
      ]
    },
    {
      "cell_type": "code",
      "source": [
        "from google.colab import drive\n",
        "drive.mount('/content/drive')"
      ],
      "metadata": {
        "id": "PyliCvnTOeN4",
        "colab": {
          "base_uri": "https://localhost:8080/"
        },
        "outputId": "75dfc24f-4c06-4082-9486-7b29ef7e5d12"
      },
      "execution_count": null,
      "outputs": [
        {
          "output_type": "stream",
          "name": "stdout",
          "text": [
            "Mounted at /content/drive\n"
          ]
        }
      ]
    },
    {
      "cell_type": "markdown",
      "metadata": {
        "id": "3RnN4peoiCZX"
      },
      "source": [
        "### Dataset Loading"
      ]
    },
    {
      "cell_type": "code",
      "execution_count": null,
      "metadata": {
        "id": "4CkvbW_SlZ_R",
        "colab": {
          "base_uri": "https://localhost:8080/"
        },
        "outputId": "f776b9ff-2e87-48b6-a9b9-043ea7e84fdc"
      },
      "outputs": [
        {
          "output_type": "stream",
          "name": "stdout",
          "text": [
            "Drive already mounted at /content/drive; to attempt to forcibly remount, call drive.mount(\"/content/drive\", force_remount=True).\n"
          ]
        }
      ],
      "source": [
        "# Load Dataset\n",
        "from google.colab import drive\n",
        "drive.mount('/content/drive')"
      ]
    },
    {
      "cell_type": "code",
      "execution_count": null,
      "metadata": {
        "id": "KSS0ELU9rMU9"
      },
      "outputs": [],
      "source": [
        "# Importing the dataset\n",
        "rental_bike_df = pd.read_csv('/content/drive/MyDrive/Capstone project-2 Machine Learning(Regression)/SeoulBikeData .csv',encoding='ISO-8859-1')"
      ]
    },
    {
      "cell_type": "markdown",
      "metadata": {
        "id": "x71ZqKXriCWQ"
      },
      "source": [
        "### Dataset First View"
      ]
    },
    {
      "cell_type": "code",
      "execution_count": null,
      "metadata": {
        "id": "LWNFOSvLl09H",
        "colab": {
          "base_uri": "https://localhost:8080/",
          "height": 391
        },
        "outputId": "ffbc21b2-9aa9-4227-9a65-664885ff29ba"
      },
      "outputs": [
        {
          "output_type": "execute_result",
          "data": {
            "text/plain": [
              "         Date  Rented Bike Count  Hour  Temperature(°C)  Humidity(%)  \\\n",
              "0  01/12/2017                254     0             -5.2           37   \n",
              "1  01/12/2017                204     1             -5.5           38   \n",
              "2  01/12/2017                173     2             -6.0           39   \n",
              "3  01/12/2017                107     3             -6.2           40   \n",
              "4  01/12/2017                 78     4             -6.0           36   \n",
              "\n",
              "   Wind speed (m/s)  Visibility (10m)  Dew point temperature(°C)  \\\n",
              "0               2.2              2000                      -17.6   \n",
              "1               0.8              2000                      -17.6   \n",
              "2               1.0              2000                      -17.7   \n",
              "3               0.9              2000                      -17.6   \n",
              "4               2.3              2000                      -18.6   \n",
              "\n",
              "   Solar Radiation (MJ/m2)  Rainfall(mm)  Snowfall (cm) Seasons     Holiday  \\\n",
              "0                      0.0           0.0            0.0  Winter  No Holiday   \n",
              "1                      0.0           0.0            0.0  Winter  No Holiday   \n",
              "2                      0.0           0.0            0.0  Winter  No Holiday   \n",
              "3                      0.0           0.0            0.0  Winter  No Holiday   \n",
              "4                      0.0           0.0            0.0  Winter  No Holiday   \n",
              "\n",
              "  Functioning Day  \n",
              "0             Yes  \n",
              "1             Yes  \n",
              "2             Yes  \n",
              "3             Yes  \n",
              "4             Yes  "
            ],
            "text/html": [
              "\n",
              "  <div id=\"df-5bc768cc-635f-469e-8214-e70537c2be23\">\n",
              "    <div class=\"colab-df-container\">\n",
              "      <div>\n",
              "<style scoped>\n",
              "    .dataframe tbody tr th:only-of-type {\n",
              "        vertical-align: middle;\n",
              "    }\n",
              "\n",
              "    .dataframe tbody tr th {\n",
              "        vertical-align: top;\n",
              "    }\n",
              "\n",
              "    .dataframe thead th {\n",
              "        text-align: right;\n",
              "    }\n",
              "</style>\n",
              "<table border=\"1\" class=\"dataframe\">\n",
              "  <thead>\n",
              "    <tr style=\"text-align: right;\">\n",
              "      <th></th>\n",
              "      <th>Date</th>\n",
              "      <th>Rented Bike Count</th>\n",
              "      <th>Hour</th>\n",
              "      <th>Temperature(°C)</th>\n",
              "      <th>Humidity(%)</th>\n",
              "      <th>Wind speed (m/s)</th>\n",
              "      <th>Visibility (10m)</th>\n",
              "      <th>Dew point temperature(°C)</th>\n",
              "      <th>Solar Radiation (MJ/m2)</th>\n",
              "      <th>Rainfall(mm)</th>\n",
              "      <th>Snowfall (cm)</th>\n",
              "      <th>Seasons</th>\n",
              "      <th>Holiday</th>\n",
              "      <th>Functioning Day</th>\n",
              "    </tr>\n",
              "  </thead>\n",
              "  <tbody>\n",
              "    <tr>\n",
              "      <th>0</th>\n",
              "      <td>01/12/2017</td>\n",
              "      <td>254</td>\n",
              "      <td>0</td>\n",
              "      <td>-5.2</td>\n",
              "      <td>37</td>\n",
              "      <td>2.2</td>\n",
              "      <td>2000</td>\n",
              "      <td>-17.6</td>\n",
              "      <td>0.0</td>\n",
              "      <td>0.0</td>\n",
              "      <td>0.0</td>\n",
              "      <td>Winter</td>\n",
              "      <td>No Holiday</td>\n",
              "      <td>Yes</td>\n",
              "    </tr>\n",
              "    <tr>\n",
              "      <th>1</th>\n",
              "      <td>01/12/2017</td>\n",
              "      <td>204</td>\n",
              "      <td>1</td>\n",
              "      <td>-5.5</td>\n",
              "      <td>38</td>\n",
              "      <td>0.8</td>\n",
              "      <td>2000</td>\n",
              "      <td>-17.6</td>\n",
              "      <td>0.0</td>\n",
              "      <td>0.0</td>\n",
              "      <td>0.0</td>\n",
              "      <td>Winter</td>\n",
              "      <td>No Holiday</td>\n",
              "      <td>Yes</td>\n",
              "    </tr>\n",
              "    <tr>\n",
              "      <th>2</th>\n",
              "      <td>01/12/2017</td>\n",
              "      <td>173</td>\n",
              "      <td>2</td>\n",
              "      <td>-6.0</td>\n",
              "      <td>39</td>\n",
              "      <td>1.0</td>\n",
              "      <td>2000</td>\n",
              "      <td>-17.7</td>\n",
              "      <td>0.0</td>\n",
              "      <td>0.0</td>\n",
              "      <td>0.0</td>\n",
              "      <td>Winter</td>\n",
              "      <td>No Holiday</td>\n",
              "      <td>Yes</td>\n",
              "    </tr>\n",
              "    <tr>\n",
              "      <th>3</th>\n",
              "      <td>01/12/2017</td>\n",
              "      <td>107</td>\n",
              "      <td>3</td>\n",
              "      <td>-6.2</td>\n",
              "      <td>40</td>\n",
              "      <td>0.9</td>\n",
              "      <td>2000</td>\n",
              "      <td>-17.6</td>\n",
              "      <td>0.0</td>\n",
              "      <td>0.0</td>\n",
              "      <td>0.0</td>\n",
              "      <td>Winter</td>\n",
              "      <td>No Holiday</td>\n",
              "      <td>Yes</td>\n",
              "    </tr>\n",
              "    <tr>\n",
              "      <th>4</th>\n",
              "      <td>01/12/2017</td>\n",
              "      <td>78</td>\n",
              "      <td>4</td>\n",
              "      <td>-6.0</td>\n",
              "      <td>36</td>\n",
              "      <td>2.3</td>\n",
              "      <td>2000</td>\n",
              "      <td>-18.6</td>\n",
              "      <td>0.0</td>\n",
              "      <td>0.0</td>\n",
              "      <td>0.0</td>\n",
              "      <td>Winter</td>\n",
              "      <td>No Holiday</td>\n",
              "      <td>Yes</td>\n",
              "    </tr>\n",
              "  </tbody>\n",
              "</table>\n",
              "</div>\n",
              "      <button class=\"colab-df-convert\" onclick=\"convertToInteractive('df-5bc768cc-635f-469e-8214-e70537c2be23')\"\n",
              "              title=\"Convert this dataframe to an interactive table.\"\n",
              "              style=\"display:none;\">\n",
              "        \n",
              "  <svg xmlns=\"http://www.w3.org/2000/svg\" height=\"24px\"viewBox=\"0 0 24 24\"\n",
              "       width=\"24px\">\n",
              "    <path d=\"M0 0h24v24H0V0z\" fill=\"none\"/>\n",
              "    <path d=\"M18.56 5.44l.94 2.06.94-2.06 2.06-.94-2.06-.94-.94-2.06-.94 2.06-2.06.94zm-11 1L8.5 8.5l.94-2.06 2.06-.94-2.06-.94L8.5 2.5l-.94 2.06-2.06.94zm10 10l.94 2.06.94-2.06 2.06-.94-2.06-.94-.94-2.06-.94 2.06-2.06.94z\"/><path d=\"M17.41 7.96l-1.37-1.37c-.4-.4-.92-.59-1.43-.59-.52 0-1.04.2-1.43.59L10.3 9.45l-7.72 7.72c-.78.78-.78 2.05 0 2.83L4 21.41c.39.39.9.59 1.41.59.51 0 1.02-.2 1.41-.59l7.78-7.78 2.81-2.81c.8-.78.8-2.07 0-2.86zM5.41 20L4 18.59l7.72-7.72 1.47 1.35L5.41 20z\"/>\n",
              "  </svg>\n",
              "      </button>\n",
              "      \n",
              "  <style>\n",
              "    .colab-df-container {\n",
              "      display:flex;\n",
              "      flex-wrap:wrap;\n",
              "      gap: 12px;\n",
              "    }\n",
              "\n",
              "    .colab-df-convert {\n",
              "      background-color: #E8F0FE;\n",
              "      border: none;\n",
              "      border-radius: 50%;\n",
              "      cursor: pointer;\n",
              "      display: none;\n",
              "      fill: #1967D2;\n",
              "      height: 32px;\n",
              "      padding: 0 0 0 0;\n",
              "      width: 32px;\n",
              "    }\n",
              "\n",
              "    .colab-df-convert:hover {\n",
              "      background-color: #E2EBFA;\n",
              "      box-shadow: 0px 1px 2px rgba(60, 64, 67, 0.3), 0px 1px 3px 1px rgba(60, 64, 67, 0.15);\n",
              "      fill: #174EA6;\n",
              "    }\n",
              "\n",
              "    [theme=dark] .colab-df-convert {\n",
              "      background-color: #3B4455;\n",
              "      fill: #D2E3FC;\n",
              "    }\n",
              "\n",
              "    [theme=dark] .colab-df-convert:hover {\n",
              "      background-color: #434B5C;\n",
              "      box-shadow: 0px 1px 3px 1px rgba(0, 0, 0, 0.15);\n",
              "      filter: drop-shadow(0px 1px 2px rgba(0, 0, 0, 0.3));\n",
              "      fill: #FFFFFF;\n",
              "    }\n",
              "  </style>\n",
              "\n",
              "      <script>\n",
              "        const buttonEl =\n",
              "          document.querySelector('#df-5bc768cc-635f-469e-8214-e70537c2be23 button.colab-df-convert');\n",
              "        buttonEl.style.display =\n",
              "          google.colab.kernel.accessAllowed ? 'block' : 'none';\n",
              "\n",
              "        async function convertToInteractive(key) {\n",
              "          const element = document.querySelector('#df-5bc768cc-635f-469e-8214-e70537c2be23');\n",
              "          const dataTable =\n",
              "            await google.colab.kernel.invokeFunction('convertToInteractive',\n",
              "                                                     [key], {});\n",
              "          if (!dataTable) return;\n",
              "\n",
              "          const docLinkHtml = 'Like what you see? Visit the ' +\n",
              "            '<a target=\"_blank\" href=https://colab.research.google.com/notebooks/data_table.ipynb>data table notebook</a>'\n",
              "            + ' to learn more about interactive tables.';\n",
              "          element.innerHTML = '';\n",
              "          dataTable['output_type'] = 'display_data';\n",
              "          await google.colab.output.renderOutput(dataTable, element);\n",
              "          const docLink = document.createElement('div');\n",
              "          docLink.innerHTML = docLinkHtml;\n",
              "          element.appendChild(docLink);\n",
              "        }\n",
              "      </script>\n",
              "    </div>\n",
              "  </div>\n",
              "  "
            ]
          },
          "metadata": {},
          "execution_count": 9
        }
      ],
      "source": [
        "# Dataset First Look\n",
        "rental_bike_df.head()"
      ]
    },
    {
      "cell_type": "code",
      "execution_count": null,
      "metadata": {
        "id": "LfUAWlMvvmOQ"
      },
      "outputs": [],
      "source": [
        "rental_bike_df.shape"
      ]
    },
    {
      "cell_type": "code",
      "execution_count": null,
      "metadata": {
        "id": "4aticaZivSkB"
      },
      "outputs": [],
      "source": [
        "rental_bike_df.describe()"
      ]
    },
    {
      "cell_type": "markdown",
      "metadata": {
        "id": "7hBIi_osiCS2"
      },
      "source": [
        "### Dataset Rows & Columns count"
      ]
    },
    {
      "cell_type": "code",
      "execution_count": null,
      "metadata": {
        "id": "Kllu7SJgmLij"
      },
      "outputs": [],
      "source": [
        "# Dataset Rows & Columns count\n",
        "rental_bike_df.shape"
      ]
    },
    {
      "cell_type": "markdown",
      "metadata": {
        "id": "JlHwYmJAmNHm"
      },
      "source": [
        "### Dataset Information"
      ]
    },
    {
      "cell_type": "code",
      "execution_count": null,
      "metadata": {
        "id": "e9hRXRi6meOf"
      },
      "outputs": [],
      "source": [
        "# Dataset Info\n",
        "rental_bike_df.info()"
      ]
    },
    {
      "cell_type": "markdown",
      "metadata": {
        "id": "35m5QtbWiB9F"
      },
      "source": [
        "#### Duplicate Values"
      ]
    },
    {
      "cell_type": "code",
      "execution_count": null,
      "metadata": {
        "id": "1sLdpKYkmox0"
      },
      "outputs": [],
      "source": [
        "# Dataset Duplicate Value Count\n",
        "len(rental_bike_df[rental_bike_df.duplicated()])"
      ]
    },
    {
      "cell_type": "markdown",
      "metadata": {
        "id": "PoPl-ycgm1ru"
      },
      "source": [
        "#### Missing Values/Null Values"
      ]
    },
    {
      "cell_type": "code",
      "execution_count": null,
      "metadata": {
        "id": "GgHWkxvamxVg"
      },
      "outputs": [],
      "source": [
        "# Missing Values/Null Values Count\n",
        "rental_bike_df.isna().sum()"
      ]
    },
    {
      "cell_type": "code",
      "execution_count": null,
      "metadata": {
        "id": "3q5wnI3om9sJ"
      },
      "outputs": [],
      "source": [
        "# Visualizing the missing values\n",
        "plt.figure(figsize=(14, 5))\n",
        "sns.heatmap(rental_bike_df.isnull(), cbar=True, yticklabels=False,cmap=\"Blues\")\n",
        "plt.xlabel(\"column_name\", size=14, weight=\"bold\")\n",
        "plt.title(\"missing values in column\",fontweight=\"bold\",size=17)\n",
        "plt.show()"
      ]
    },
    {
      "cell_type": "markdown",
      "metadata": {
        "id": "H0kj-8xxnORC"
      },
      "source": [
        "## What did you know about your dataset?"
      ]
    },
    {
      "cell_type": "markdown",
      "metadata": {
        "id": "gfoNAAC-nUe_"
      },
      "source": [
        "### The dataset contains weather information (Temperature, Humidity, Windspeed, Visibility, Dewpoint, Solar radiation, Snowfall, Rainfall), the number of bikes rented per hour and date information.\n",
        "### Attribute Information:\n",
        "* ### **Date** : year-month-day\n",
        "* ### **Rented Bike count:** Count of bikes rented at each hour\n",
        "* ### **Hour** - Hour of the day\n",
        "* ### **Temperature:**Temperature in Celsius\n",
        "* ### **Humidity:**-%\n",
        "* ### **Windspeed :**-m/s\n",
        "* ### **Visibility:**-10m\n",
        "* ### **Dew point temperature:**-Celsius\n",
        "* ### **Solar radiation :**-MJ/m2\n",
        "* ### **Rainfall:**-mm\n",
        "* ### **Snowfall :**-cm\n",
        "* ### **Seasons :**- Winter, Spring, Summer, Autumn\n",
        "* ### **Holiday :**- Holiday/No holiday\n",
        "* ### **Functional Day :**-- NoFunc(Non Functional Hours), Fun(Functional hours)"
      ]
    },
    {
      "cell_type": "markdown",
      "metadata": {
        "id": "nA9Y7ga8ng1Z"
      },
      "source": [
        "## ***2. Understanding Your Variables***"
      ]
    },
    {
      "cell_type": "code",
      "execution_count": null,
      "metadata": {
        "id": "j7xfkqrt5Ag5"
      },
      "outputs": [],
      "source": [
        "# Dataset Columns\n",
        "rental_bike_df.columns"
      ]
    },
    {
      "cell_type": "code",
      "execution_count": null,
      "metadata": {
        "id": "DnOaZdaE5Q5t"
      },
      "outputs": [],
      "source": [
        "# Dataset Describe\n",
        "rental_bike_df.describe()"
      ]
    },
    {
      "cell_type": "markdown",
      "metadata": {
        "id": "PBTbrJXOngz2"
      },
      "source": [
        "### Variables Description "
      ]
    },
    {
      "cell_type": "markdown",
      "metadata": {
        "id": "aJV4KIxSnxay"
      },
      "source": [
        "we get to know about our data is:\n",
        "\n",
        "*   Four features are of integer data types.\n",
        "*   Six features are of float data types.\n",
        "*   Four features are of object data types.\n",
        "*   Also there are no null values."
      ]
    },
    {
      "cell_type": "markdown",
      "metadata": {
        "id": "u3PMJOP6ngxN"
      },
      "source": [
        "### Check Unique Values for each variable."
      ]
    },
    {
      "cell_type": "code",
      "execution_count": null,
      "metadata": {
        "id": "zms12Yq5n-jE"
      },
      "outputs": [],
      "source": [
        "# Check Unique Values for each variable.\n",
        "for i in ['Seasons','Holiday','Functioning Day']:\n",
        "  print(rental_bike_df[i].value_counts())"
      ]
    },
    {
      "cell_type": "markdown",
      "metadata": {
        "id": "dauF4eBmngu3"
      },
      "source": [
        "## 3. ***Data Wrangling***"
      ]
    },
    {
      "cell_type": "markdown",
      "metadata": {
        "id": "3cyUgl_xNGEO"
      },
      "source": [
        "**Exploratory Data Analysis**"
      ]
    },
    {
      "cell_type": "code",
      "execution_count": null,
      "metadata": {
        "id": "05wVL5OK-5-W"
      },
      "outputs": [],
      "source": [
        "# Numeric Features\n",
        "\n",
        "numeric_features = rental_bike_df.describe().columns\n",
        "numeric_features"
      ]
    },
    {
      "cell_type": "code",
      "execution_count": null,
      "metadata": {
        "id": "syQukRgB-4mN"
      },
      "outputs": [],
      "source": [
        "# creating a dataframe containing the sum of all column values pertaining to differant seasons\n",
        "\n",
        "df_1 = rental_bike_df.groupby('Seasons').sum()\n",
        "df_1"
      ]
    },
    {
      "cell_type": "code",
      "execution_count": null,
      "metadata": {
        "id": "7ldUy92b_EMI"
      },
      "outputs": [],
      "source": [
        "# creating a pie chart of bike count in differant seasons\n",
        "\n",
        "df_1['Rented Bike Count'].plot(kind='pie', subplots=True, figsize=(8, 8), autopct = \"%1.1f%%\")\n"
      ]
    },
    {
      "cell_type": "markdown",
      "metadata": {
        "id": "6Ov-yDA9_U_u"
      },
      "source": [
        "conclusions from above pie chart:\n",
        "\n",
        " Most bikes have been rented in the summer season.\n",
        "least bike rent count is in winter season.\n",
        "autumn and spring seasons have almost equal amounts of bike rent count.\n"
      ]
    },
    {
      "cell_type": "code",
      "execution_count": null,
      "metadata": {
        "id": "5CC11Juj_fRi"
      },
      "outputs": [],
      "source": [
        "# Working on Categorical features\n",
        "# Date columns to Date format conversion\n",
        "rental_bike_df['Date']= pd.to_datetime(rental_bike_df['Date'])\n"
      ]
    },
    {
      "cell_type": "code",
      "execution_count": null,
      "metadata": {
        "id": "nyd9vkfU8Lsm"
      },
      "outputs": [],
      "source": [
        "# creating a column containing the year from a particular date\n",
        "\n",
        "year = []\n",
        "for i in range(len(rental_bike_df['Date'])):\n",
        "  year.append(rental_bike_df['Date'][i].year)\n",
        "rental_bike_df['year'] = year  \n"
      ]
    },
    {
      "cell_type": "code",
      "execution_count": null,
      "metadata": {
        "id": "eX0VViNy8sKn"
      },
      "outputs": [],
      "source": [
        "# creating a series which shows total number of bikes rented in each year\n",
        "\n",
        "df_year = rental_bike_df.groupby('year').sum()['Rented Bike Count']\n",
        "df_year"
      ]
    },
    {
      "cell_type": "code",
      "execution_count": null,
      "metadata": {
        "id": "pMP3GchC8_In"
      },
      "outputs": [],
      "source": [
        "fig, ax = plt.subplots(figsize=(8,6))\n",
        "df_year.plot(kind='bar', ax=ax)\n"
      ]
    },
    {
      "cell_type": "markdown",
      "metadata": {
        "id": "tfwUMHiQ9Ddg"
      },
      "source": [
        "\n",
        "\n",
        "Above plot shows that most of the bikes have been rented in the year 2018.\n",
        "\n"
      ]
    },
    {
      "cell_type": "code",
      "execution_count": null,
      "metadata": {
        "id": "_nylUvm09TFK"
      },
      "outputs": [],
      "source": [
        "# creating a series which shows total number of bikes rented on the type of day\n",
        "\n",
        "df_hol = rental_bike_df.groupby('Holiday').sum()\n",
        "df_hol"
      ]
    },
    {
      "cell_type": "code",
      "execution_count": null,
      "metadata": {
        "id": "hXKr00ZD9eKf"
      },
      "outputs": [],
      "source": [
        "df_hol['Rented Bike Count'].plot(kind='pie', subplots=True, figsize=(5, 5) ,autopct = \"%1.1f%%\" )"
      ]
    },
    {
      "cell_type": "markdown",
      "metadata": {
        "id": "SfCKMEsk9jwP"
      },
      "source": [
        "Above plot shows that most of the bikes have been rented on working days.\n",
        "\n"
      ]
    },
    {
      "cell_type": "code",
      "execution_count": null,
      "metadata": {
        "id": "0GyFzwnZ9xN_"
      },
      "outputs": [],
      "source": [
        "# bikes rented on type of day in each year\n",
        "\n",
        "plt.figure(figsize=(8,7))\n",
        "sns.countplot(x='Holiday', hue = 'year', data= rental_bike_df)\n",
        "plt.title('Density of rented bikes on holiday vs no holiday in a particular year')\n",
        "plt.show()\n"
      ]
    },
    {
      "cell_type": "code",
      "execution_count": null,
      "metadata": {
        "id": "kIVXhzCh_8yA"
      },
      "outputs": [],
      "source": [
        "# extracting day,month, day of week and weekdays/weekend from date column\n",
        "rental_bike_df['month'] = rental_bike_df['Date'].apply(lambda x : x.month)\n",
        "rental_bike_df['day_of_week'] = rental_bike_df['Date'].dt.day_name()\n",
        "rental_bike_df['weekdays_weekend']=rental_bike_df['day_of_week'].apply(lambda x : 1 if x=='Saturday' or x=='Sunday' else 0 )\n",
        "#rental_bike_df=rental_bike_df.drop(columns=['Date','day_of_week'],axis=1)\n"
      ]
    },
    {
      "cell_type": "code",
      "execution_count": null,
      "metadata": {
        "id": "DxJJVAEsBSxo"
      },
      "outputs": [],
      "source": [
        "rental_bike_df.head()"
      ]
    },
    {
      "cell_type": "code",
      "execution_count": null,
      "metadata": {
        "id": "B37qWpJJ-SY5"
      },
      "outputs": [],
      "source": [
        "# plot showing the bikes rented in differant months in the year 2018\n",
        "\n",
        "sns.countplot(rental_bike_df.loc[rental_bike_df['year']==2018,'month'])\n"
      ]
    },
    {
      "cell_type": "markdown",
      "metadata": {
        "id": "1-SGodfv-f63"
      },
      "source": [
        " Above plot shows that very less bikes have been rented in december which is winter season.\n",
        "\n"
      ]
    },
    {
      "cell_type": "code",
      "execution_count": null,
      "metadata": {
        "id": "u1eHqBClAt3y"
      },
      "outputs": [],
      "source": [
        "# creating a dataframe containing the count of bikes rented in differant intensities of rainfall\n",
        "\n",
        "df_rain = pd.DataFrame(rental_bike_df.groupby('Rainfall(mm)')['Rented Bike Count'].sum())\n"
      ]
    },
    {
      "cell_type": "code",
      "execution_count": null,
      "metadata": {
        "id": "7DZugmVaA2Hl"
      },
      "outputs": [],
      "source": [
        "# resetting index of the dataframe\n",
        "\n",
        "df_rain.reset_index(inplace=True)\n",
        "df_rain.head()\n"
      ]
    },
    {
      "cell_type": "code",
      "execution_count": null,
      "metadata": {
        "id": "hW9QPJEBBCeo"
      },
      "outputs": [],
      "source": [
        "# plot showing distribution of bike rentals according to rainfall intensity\n",
        "\n",
        "sns.distplot(df_rain['Rainfall(mm)'])\n"
      ]
    },
    {
      "cell_type": "markdown",
      "metadata": {
        "id": "RLdk5IdfBQF2"
      },
      "source": [
        "Above plot shows that people tend to rent bikes when there is no or less rainfall.\n",
        "\n"
      ]
    },
    {
      "cell_type": "code",
      "execution_count": null,
      "metadata": {
        "id": "CZ2BdINaBSCn"
      },
      "outputs": [],
      "source": [
        "# creating a dataframe containing the count of bikes rented in differant intensities of snowfall\n",
        "\n",
        "df_snow = pd.DataFrame(rental_bike_df.groupby('Snowfall (cm)')['Rented Bike Count'].sum())\n",
        "df_snow.reset_index(inplace=True)\n"
      ]
    },
    {
      "cell_type": "code",
      "execution_count": null,
      "metadata": {
        "id": "uL-pyX2JBoNU"
      },
      "outputs": [],
      "source": [
        "df_snow.head()"
      ]
    },
    {
      "cell_type": "code",
      "execution_count": null,
      "metadata": {
        "id": "dDFCA8aIBwg-"
      },
      "outputs": [],
      "source": [
        "# plot showing distribution of bike rentals according to snowfall intensity\n",
        "\n",
        "sns.distplot(df_snow['Snowfall (cm)'])"
      ]
    },
    {
      "cell_type": "markdown",
      "metadata": {
        "id": "GyZtC_NpCFSf"
      },
      "source": [
        "Above plot shows that people tend to rent bikes when there is no or less snowfall.\n",
        "\n"
      ]
    },
    {
      "cell_type": "code",
      "execution_count": null,
      "metadata": {
        "id": "vIw4G6xRCMIs"
      },
      "outputs": [],
      "source": [
        "# creating a dataframe containing the count of bikes rented in differant intensities of tempreature\n",
        "\n",
        "df_temp = pd.DataFrame(rental_bike_df.groupby('Temperature(°C)')['Rented Bike Count'].sum())\n",
        "df_temp.reset_index(inplace=True)\n",
        "df_temp.head()\n"
      ]
    },
    {
      "cell_type": "code",
      "execution_count": null,
      "metadata": {
        "id": "FFWe53DWCrf4"
      },
      "outputs": [],
      "source": [
        "# plot showing distribution of bike rentals according to temperature intensity\n",
        "\n",
        "sns.distplot(df_temp['Temperature(°C)'])\n"
      ]
    },
    {
      "cell_type": "markdown",
      "metadata": {
        "id": "KgN2UTJ-C22g"
      },
      "source": [
        "Above plot shows that people tend to rent bikes when the temperature is between -5 to 25 degrees.\n",
        "\n"
      ]
    },
    {
      "cell_type": "code",
      "execution_count": null,
      "metadata": {
        "id": "B1Uzh4q8DEV6"
      },
      "outputs": [],
      "source": [
        "# creating a dataframe containing the count of bikes rented in differant visibility ranges\n",
        "\n",
        "df_visibility = pd.DataFrame(rental_bike_df.groupby('Visibility (10m)')['Rented Bike Count'].sum())\n",
        "df_visibility.reset_index(inplace=True)\n",
        "df_visibility.head()"
      ]
    },
    {
      "cell_type": "code",
      "execution_count": null,
      "metadata": {
        "id": "1I1QPS7rDTg7"
      },
      "outputs": [],
      "source": [
        "sns.distplot(df_visibility['Visibility (10m)'])\n"
      ]
    },
    {
      "cell_type": "markdown",
      "metadata": {
        "id": "sLeTBK7XFeWv"
      },
      "source": [
        "Above plot shows that people tend to rent bikes when the visibility is between 300 to 1700.\n"
      ]
    },
    {
      "cell_type": "code",
      "execution_count": null,
      "metadata": {
        "id": "83AXgNUy454I"
      },
      "outputs": [],
      "source": [
        "# creating a dataframe containing the count of bikes rented in differant intensities of humidity\n",
        "\n",
        "df_humidity = pd.DataFrame(rental_bike_df.groupby('Humidity(%)')['Rented Bike Count'].sum())\n",
        "df_humidity.reset_index(inplace=True)\n",
        "df_humidity.head()"
      ]
    },
    {
      "cell_type": "code",
      "execution_count": null,
      "metadata": {
        "id": "e-RGASvq5iin"
      },
      "outputs": [],
      "source": [
        "sns.distplot(df_humidity['Humidity(%)'])\n"
      ]
    },
    {
      "cell_type": "code",
      "execution_count": null,
      "metadata": {
        "id": "DW9KrzaLFyRp"
      },
      "outputs": [],
      "source": [
        "# scatter plot of bike count at hour of a particular day\n",
        "\n",
        "plt.scatter(rental_bike_df['Hour'], rental_bike_df['Rented Bike Count'], alpha=0.5)\n",
        "plt.title('Scatter plot of bike count with hour')\n",
        "plt.xlabel('hour')\n",
        "plt.ylabel('bike count')\n",
        "plt.show()\n"
      ]
    },
    {
      "cell_type": "markdown",
      "metadata": {
        "id": "ns9r4XEbF7e6"
      },
      "source": [
        " From above its clear that the rentals were more in the morning and evening.This is because people not having personal vehicle, commuting to offices and schools tend to rent bikes.\n",
        "\n"
      ]
    },
    {
      "cell_type": "code",
      "execution_count": null,
      "metadata": {
        "id": "rJXqEm7xYZPv"
      },
      "outputs": [],
      "source": [
        "f, axes = plt.subplots(nrows=2, ncols=1, figsize=(15, 18))\n",
        "group_work_hour = pd.DataFrame(rental_bike_df.groupby(['Holiday', 'Hour'])['Rented Bike Count'].mean()).reset_index()\n",
        "sns.pointplot(data=group_work_hour, x='Hour', y='Rented Bike Count', hue='Holiday', ax=axes[0], legend=True)\n",
        "handles, _ = axes[0].get_legend_handles_labels()\n",
        "axes[0].legend(handles, ['Not a Working Day', 'Working Day'])\n",
        "axes[0].set(xlabel='Hour in the day', ylabel='Count', title='Average Bike Rentals by the day if Working day or Not')\n",
        "\n",
        "hue_order= ['Monday', 'Tuesday', 'Wednesday', 'Thursday', 'Friday', 'Saturday', 'Sunday']\n",
        "group_day_hour = pd.DataFrame(rental_bike_df.groupby(['day_of_week', 'Hour'])['Rented Bike Count'].mean()).reset_index()\n",
        "sns.pointplot(data=group_day_hour, x='Hour', y='Rented Bike Count', hue='day_of_week', ax=axes[1], hue_order=hue_order)\n",
        "axes[1].set(xlabel='Hour in the day', ylabel='Count', title='Average Bike Rentals by the day across Weekdays')\n",
        "\n",
        "\n",
        "\n",
        "plt.show()\n",
        "\n"
      ]
    },
    {
      "cell_type": "code",
      "execution_count": null,
      "metadata": {
        "id": "MfD_JQ66CQFC"
      },
      "outputs": [],
      "source": [
        "## plot a bar plot for each categorical feature count (except Date & Rented Bike Count)\n",
        "for col in numeric_features[1:-1]:\n",
        "    fig = plt.figure(figsize=(9, 6))\n",
        "    ax = fig.gca()\n",
        "    feature = rental_bike_df[col]\n",
        "    label = rental_bike_df['Rented Bike Count']\n",
        "    correlation = feature.corr(label)\n",
        "    plt.scatter(x=feature, y=label)\n",
        "    plt.xlabel(col)\n",
        "    plt.ylabel('Rented Bike Count')\n",
        "    ax.set_title('Rented Bike Count vs ' + col + '- correlation: ' + str(correlation))\n",
        "    z = np.polyfit(rental_bike_df[col], rental_bike_df['Rented Bike Count'], 1)\n",
        "    y_hat = np.poly1d(z)(rental_bike_df[col])\n",
        "\n",
        "    plt.plot(rental_bike_df[col], y_hat, \"r--\", lw=1)\n",
        "\n",
        "plt.show()"
      ]
    },
    {
      "cell_type": "code",
      "execution_count": null,
      "metadata": {
        "id": "CEycXBNREBq-"
      },
      "outputs": [],
      "source": [
        "#checking categorical variable\n",
        "categorical_features = rental_bike_df.describe(include=['object','category']).columns"
      ]
    },
    {
      "cell_type": "code",
      "execution_count": null,
      "metadata": {
        "id": "z1e2a3oacWKG"
      },
      "outputs": [],
      "source": [
        "categorical_features"
      ]
    },
    {
      "cell_type": "code",
      "execution_count": null,
      "metadata": {
        "id": "KPuN-qTwE-ZD"
      },
      "outputs": [],
      "source": [
        "# plot a bar plot for each categorical feature count  \n",
        "\n",
        "for col in categorical_features:\n",
        "    counts = rental_bike_df[col].value_counts().sort_index()\n",
        "    fig = plt.figure(figsize=(9, 6))\n",
        "    ax = fig.gca()\n",
        "    counts.plot.bar(ax = ax, color='red')\n",
        "    ax.set_title(col + ' counts')\n",
        "    ax.set_xlabel(col) \n",
        "    ax.set_ylabel(\"Frequency\")\n",
        "plt.show()"
      ]
    },
    {
      "cell_type": "code",
      "execution_count": null,
      "metadata": {
        "id": "upzm6cQNnK4q"
      },
      "outputs": [],
      "source": [
        "#relation between categoricals and dependent features\n",
        "fig,ax=plt.subplots(figsize=(15,8))\n",
        "sns.set_style('white')\n",
        "#Bar plot for seasonwise monthly distribution of counts\n",
        "sns.barplot(x='month',y='Rented Bike Count',data=rental_bike_df[['month','Rented Bike Count','Seasons']],hue='Seasons',ax=ax)\n",
        "ax.set_title('Seasonwise monthly distribution of counts')\n",
        "plt.show()\n",
        "#Bar plot for weekday wise monthly distribution of counts\n",
        "fig,ax1=plt.subplots(figsize=(15,8))\n",
        "sns.barplot(x='month',y='Rented Bike Count',data=rental_bike_df[['month','Rented Bike Count','weekdays_weekend']],hue='weekdays_weekend',ax=ax1)\n",
        "ax.set_title('Weekdays wise monthly distribution of counts')\n",
        "plt.show()\n",
        "#Bar plot for weekday wise monthly distribution of counts\n",
        "fig,ax1=plt.subplots(figsize=(15,8))\n",
        "sns.barplot(x='Holiday',y='Rented Bike Count',data=rental_bike_df[['Holiday','Rented Bike Count','weekdays_weekend']],hue='weekdays_weekend',ax=ax1)\n",
        "ax.set_title('Holiday wise monthly distribution of counts')\n",
        "plt.show()"
      ]
    },
    {
      "cell_type": "markdown",
      "source": [
        "## **Feature Engineering and Correlation:**"
      ],
      "metadata": {
        "id": "oiIRDD2GUBNH"
      }
    },
    {
      "cell_type": "code",
      "execution_count": null,
      "metadata": {
        "id": "4LI1GbQ7FbFS"
      },
      "outputs": [],
      "source": [
        "## Correlation \n",
        "plt.figure(figsize=(15,8))\n",
        "correlation = rental_bike_df.corr()\n",
        "sns.heatmap(abs(correlation), annot=True, cmap='coolwarm')"
      ]
    },
    {
      "cell_type": "code",
      "execution_count": null,
      "metadata": {
        "id": "TW5w5uxoMRD1"
      },
      "outputs": [],
      "source": [
        "# To remove Multicollinearity, using VIF\n",
        "\n",
        "from statsmodels.stats.outliers_influence import variance_inflation_factor\n",
        "def calc_vif(X):\n",
        " \n",
        "   # Calculating VIF\n",
        "   vif = pd.DataFrame()\n",
        "   vif[\"variables\"] = X.columns\n",
        "   vif[\"VIF\"] = [variance_inflation_factor(X.values, i) for i in range(X.shape[1])]\n",
        " \n",
        "   return(vif)"
      ]
    },
    {
      "cell_type": "code",
      "execution_count": null,
      "metadata": {
        "id": "sioMJG6JMnZ1"
      },
      "outputs": [],
      "source": [
        "calc_vif(rental_bike_df[[i for i in rental_bike_df.describe().columns if i not in ['Rented Bike Count','Dew point temperature(°C)','year'] ]])"
      ]
    },
    {
      "cell_type": "code",
      "execution_count": null,
      "metadata": {
        "id": "arPboo-tB2Bc"
      },
      "outputs": [],
      "source": [
        "# showing relation between Categorical and Dependent Features\n",
        "#ploting Box plot to visualize and trying to get information from plot\n",
        "for col in categorical_features:\n",
        "  plt.figure(figsize=(10,8))\n",
        "  sns.boxplot(x=rental_bike_df[col],y=rental_bike_df[\"Rented Bike Count\"])\n",
        "  plt.show()"
      ]
    },
    {
      "cell_type": "code",
      "execution_count": null,
      "metadata": {
        "id": "HRy-ceZSzZa2"
      },
      "outputs": [],
      "source": [
        "#treating outliers\n",
        "def remove_outlier_IQR(df):\n",
        "    Q1=df.quantile(0.25)\n",
        "    Q3=df.quantile(0.75)\n",
        "    IQR=Q3-Q1\n",
        "    rental_bike_df=df[~((df<(Q1-1.5*IQR)) | (df>(Q3+1.5*IQR)))]\n",
        "    return rental_bike_df"
      ]
    },
    {
      "cell_type": "code",
      "execution_count": null,
      "metadata": {
        "id": "I03CtKrpzc00"
      },
      "outputs": [],
      "source": [
        "df_outlier_removed_SR=remove_outlier_IQR(rental_bike_df[\"Solar Radiation (MJ/m2)\"])\n",
        "df_outlier_removed_WS=remove_outlier_IQR(rental_bike_df[\"Wind hmmspeed (m/s)\"])\n",
        "\n",
        "df_outlier_removed_SR=pd.DataFrame(df_outlier_removed_SR)\n",
        "df_outlier_removed_WS=pd.DataFrame(df_outlier_removed_WS)\n",
        "\n",
        "ind_diff_SR=rental_bike_df.index.difference(df_outlier_removed_SR.index)\n",
        "ind_diff_WS=rental_bike_df.index.difference(df_outlier_removed_WS.index)\n",
        "\n",
        "in_first = set(ind_diff_SR)\n",
        "in_second = set(ind_diff_WS)\n",
        "result = in_second.union(in_first) \n",
        "\n",
        "\n",
        "for i in range(0, len(result),1):\n",
        "        rental_bike_df.drop(i,inplace=True)"
      ]
    },
    {
      "cell_type": "code",
      "execution_count": null,
      "metadata": {
        "id": "LPIDqudOcUXk"
      },
      "outputs": [],
      "source": [
        "rental_bike_df.info()"
      ]
    },
    {
      "cell_type": "code",
      "execution_count": null,
      "metadata": {
        "id": "Kme9RDB6j0Re"
      },
      "outputs": [],
      "source": [
        "rental_bike_df.Seasons.value_counts()"
      ]
    },
    {
      "cell_type": "code",
      "execution_count": null,
      "metadata": {
        "id": "7UedLHW51RL-"
      },
      "outputs": [],
      "source": [
        "# Create dummy variables for the catgeorical variable Seasons,Holiday,Functioning Day\n",
        "\n",
        "rental_bike_df['Winter_Season'] = np.where(rental_bike_df['Seasons']=='Winter', 1, 0)\n",
        "rental_bike_df['Spring_Season'] = np.where(rental_bike_df['Seasons']=='Spring', 1, 0)\n",
        "rental_bike_df['Summer_Season'] = np.where(rental_bike_df['Seasons']=='Summer', 1, 0)\n",
        "rental_bike_df['Autumn_Season'] = np.where(rental_bike_df['Seasons']=='Autumn', 1, 0)\n",
        "rental_bike_df['Holiday'] = np.where(rental_bike_df['Holiday']=='No Holiday', 1, 0)\n",
        "rental_bike_df['Functioning Day'] = np.where(rental_bike_df['Functioning Day']=='Yes', 1, 0)\n",
        "\n",
        "# Drop the original column Seasons from the dataframe\n",
        "rental_bike_df.drop(columns=['Seasons'],axis=1,inplace=True)\n"
      ]
    },
    {
      "cell_type": "code",
      "execution_count": null,
      "metadata": {
        "id": "Hg0qpr3AnusL"
      },
      "outputs": [],
      "source": [
        "rental_bike_df.head()"
      ]
    },
    {
      "cell_type": "code",
      "execution_count": null,
      "metadata": {
        "id": "ynTqPp8bi5b9"
      },
      "outputs": [],
      "source": [
        "#visualising distribution\n",
        "plt.figure(figsize=(10,8))\n",
        "\n",
        "sns.distplot(rental_bike_df['Rented Bike Count'])"
      ]
    },
    {
      "cell_type": "code",
      "execution_count": null,
      "metadata": {
        "id": "J_RgjUvXjjni"
      },
      "outputs": [],
      "source": [
        "# square_root transformation\n",
        "\n",
        "plt.figure(figsize=(8,6))\n",
        "sns.distplot(np.sqrt(rental_bike_df['Rented Bike Count']))\n"
      ]
    },
    {
      "cell_type": "code",
      "execution_count": null,
      "metadata": {
        "id": "jhJ2WcqzP3y5"
      },
      "outputs": [],
      "source": [
        "# drop the date column in dataset\n",
        "rental_bike_df=rental_bike_df.drop(columns=['Date','day_of_week'],axis=1)\n"
      ]
    },
    {
      "cell_type": "markdown",
      "metadata": {
        "id": "OB4l2ZhMeS1U"
      },
      "source": [
        "### Linear Regression"
      ]
    },
    {
      "cell_type": "code",
      "execution_count": null,
      "metadata": {
        "id": "mk4AhXLPIw0I"
      },
      "outputs": [],
      "source": [
        "#creating list of matrix to store the evaluation matrix of all model\n",
        "MSE=[]\n",
        "RMSE=[]\n",
        "R2=[]\n",
        "Adj_R2=[]\n"
      ]
    },
    {
      "cell_type": "code",
      "execution_count": null,
      "metadata": {
        "id": "7ebyywQieS1U"
      },
      "outputs": [],
      "source": [
        "# ML Model - 1 Implementation\n",
        "dependent_variable = 'Rented Bike Count'"
      ]
    },
    {
      "cell_type": "code",
      "execution_count": null,
      "metadata": {
        "id": "zMID6riukTlB"
      },
      "outputs": [],
      "source": [
        "# Create a list of independent variables\n",
        "independent_variables = list(set(rental_bike_df.columns.tolist()) - {dependent_variable})\n",
        "independent_variables"
      ]
    },
    {
      "cell_type": "code",
      "execution_count": null,
      "metadata": {
        "id": "vIV7NUa_kiSc"
      },
      "outputs": [],
      "source": [
        "# Create the data of independent variables\n",
        "X = rental_bike_df[independent_variables].values\n",
        "\n",
        "# Create the dependent variable data\n",
        "y = rental_bike_df[dependent_variable].values"
      ]
    },
    {
      "cell_type": "code",
      "execution_count": null,
      "metadata": {
        "id": "jwd9JzYXksSv"
      },
      "outputs": [],
      "source": [
        "rental_bike_df[independent_variables]"
      ]
    },
    {
      "cell_type": "code",
      "execution_count": null,
      "metadata": {
        "id": "M_pisiZSlMp3"
      },
      "outputs": [],
      "source": [
        "# Splitting the dataset into the Training set and Test set\n",
        "X_train, X_test, y_train, y_test = train_test_split(X, y, test_size = 0.2, random_state = 0)"
      ]
    },
    {
      "cell_type": "code",
      "execution_count": null,
      "metadata": {
        "id": "n-tu6a4nlU9O"
      },
      "outputs": [],
      "source": [
        "X_train[0:5]"
      ]
    },
    {
      "cell_type": "code",
      "execution_count": null,
      "metadata": {
        "id": "secfZbZvlgzH"
      },
      "outputs": [],
      "source": [
        "# Transforming data\n",
        "from sklearn.preprocessing import MinMaxScaler\n",
        "\n",
        "scaler = MinMaxScaler()\n",
        "X_train = scaler.fit_transform(X_train)\n",
        "X_test = scaler.transform(X_test)"
      ]
    },
    {
      "cell_type": "code",
      "execution_count": null,
      "metadata": {
        "id": "xsTDoo93l3wp"
      },
      "outputs": [],
      "source": [
        "X_train[0:5]"
      ]
    },
    {
      "cell_type": "code",
      "execution_count": null,
      "metadata": {
        "id": "Wjybgnb2mCgH"
      },
      "outputs": [],
      "source": [
        "# Fitting Multiple Linear Regression to the Training set\n",
        "regressor = LinearRegression()\n",
        "regressor.fit(X_train, y_train)"
      ]
    },
    {
      "cell_type": "code",
      "execution_count": null,
      "metadata": {
        "id": "DZzEC3TBm8MD"
      },
      "outputs": [],
      "source": [
        "regressor.intercept_"
      ]
    },
    {
      "cell_type": "code",
      "execution_count": null,
      "metadata": {
        "id": "c_3dVYX1m9w6"
      },
      "outputs": [],
      "source": [
        "regressor.coef_"
      ]
    },
    {
      "cell_type": "code",
      "execution_count": null,
      "metadata": {
        "id": "RMmOJyL-nES2"
      },
      "outputs": [],
      "source": [
        "y_pred_train = regressor.predict(X_train)\n",
        "y_pred_train"
      ]
    },
    {
      "cell_type": "code",
      "execution_count": null,
      "metadata": {
        "id": "dmx57WOeoP1v"
      },
      "outputs": [],
      "source": [
        "y_train"
      ]
    },
    {
      "cell_type": "code",
      "execution_count": null,
      "metadata": {
        "id": "zLNYqEgIpROn"
      },
      "outputs": [],
      "source": [
        "# Predicting the Test set results\n",
        "y_pred_test = regressor.predict(X_test)\n",
        "y_pred_test"
      ]
    },
    {
      "cell_type": "code",
      "execution_count": null,
      "metadata": {
        "id": "lNqY1re4pbx1"
      },
      "outputs": [],
      "source": [
        "y_test"
      ]
    },
    {
      "cell_type": "code",
      "execution_count": null,
      "metadata": {
        "id": "CxQ4yqyPN9x3"
      },
      "outputs": [],
      "source": [
        "MSE_lr = mean_squared_error(y_test, y_pred_test)\n",
        "MSE.append(MSE_lr)\n",
        "MSE_lr"
      ]
    },
    {
      "cell_type": "code",
      "execution_count": null,
      "metadata": {
        "id": "Y26GbBp9qCc8"
      },
      "outputs": [],
      "source": [
        "# Train performance\n",
        "math.sqrt(mean_squared_error(y_train, y_pred_train))"
      ]
    },
    {
      "cell_type": "code",
      "execution_count": null,
      "metadata": {
        "id": "b6kYZOSwrQ20"
      },
      "outputs": [],
      "source": [
        "# Test performance\n",
        "RMSE_lr = math.sqrt(mean_squared_error(y_test, y_pred_test))\n",
        "RMSE.append(RMSE_lr)\n",
        "RMSE_lr"
      ]
    },
    {
      "cell_type": "code",
      "execution_count": null,
      "metadata": {
        "id": "9xgNXs0WrXWR"
      },
      "outputs": [],
      "source": [
        "r2_score(y_train, y_pred_train)"
      ]
    },
    {
      "cell_type": "code",
      "execution_count": null,
      "metadata": {
        "id": "ijUhD-E9rbfM"
      },
      "outputs": [],
      "source": [
        "R2_lr = r2_score(y_test, y_pred_test)\n",
        "R2.append(R2_lr)\n",
        "R2_lr"
      ]
    },
    {
      "cell_type": "code",
      "execution_count": null,
      "metadata": {
        "id": "7Wj59a6Bgh8a"
      },
      "outputs": [],
      "source": [
        "adj_r2_lr =1-(1-r2_score(y_test,y_pred_test))*((X_test.shape[0]-1)/(X_test.shape[0]-X_test.shape[1]-1))\n",
        "Adj_R2.append(adj_r2_lr)\n",
        "print(\"Adjusted R2 : \",adj_r2_lr,'\\n')"
      ]
    },
    {
      "cell_type": "code",
      "execution_count": null,
      "metadata": {
        "id": "glcycXJ6sIsH"
      },
      "outputs": [],
      "source": [
        "  plt.figure(figsize=(10,8))\n",
        "  plt.plot((y_pred_test)[:100])\n",
        "  plt.plot((np.array(y_test)[:100]))\n",
        "  plt.legend([\"Predicted\",\"Actual\"])\n",
        "  plt.show()\n"
      ]
    },
    {
      "cell_type": "markdown",
      "metadata": {
        "id": "dJ2tPlVmpsJ0"
      },
      "source": [
        "# **Regularised Linear Regression**"
      ]
    },
    {
      "cell_type": "markdown",
      "metadata": {
        "id": "6uMRjOp4xTGu"
      },
      "source": [
        "**Lasso Regression**"
      ]
    },
    {
      "cell_type": "code",
      "execution_count": null,
      "metadata": {
        "id": "yEl-hgQWpsJ1"
      },
      "outputs": [],
      "source": [
        "from sklearn.linear_model import Lasso\n",
        "lasso  = Lasso(alpha=0.1 , max_iter= 3000)\n",
        "\n",
        "lasso.fit(X_train, y_train)"
      ]
    },
    {
      "cell_type": "code",
      "execution_count": null,
      "metadata": {
        "id": "av3m1cosv-wo"
      },
      "outputs": [],
      "source": [
        "lasso.score(X_train, y_train)"
      ]
    },
    {
      "cell_type": "code",
      "execution_count": null,
      "metadata": {
        "id": "4VTwtgVlwKJc"
      },
      "outputs": [],
      "source": [
        "y_pred_testl = lasso.predict(X_test)"
      ]
    },
    {
      "cell_type": "code",
      "execution_count": null,
      "metadata": {
        "id": "xiMfrur4LvzX"
      },
      "outputs": [],
      "source": [
        "MSE_lasso = mean_squared_error(y_test, y_pred_testl)\n",
        "MSE.append(MSE_lasso)\n",
        "\n",
        "RMSE_lasso = math.sqrt(mean_squared_error(y_test, y_pred_testl))\n",
        "RMSE.append(RMSE_lasso)\n",
        "\n",
        "R2_lasso = r2_score(y_test, y_pred_testl)\n",
        "R2.append(R2_lasso)\n",
        "\n",
        "adj_r2_lasso =1-(1-r2_score(y_test,y_pred_testl))*((X_test.shape[0]-1)/(X_test.shape[0]-X_test.shape[1]-1))\n",
        "Adj_R2.append(adj_r2_lasso)\n",
        "\n",
        "print(f\"MSE:{MSE_lasso},RMSE:{RMSE_lasso},R2:{R2_lasso},Adj_R2:{adj_r2_lasso}\")"
      ]
    },
    {
      "cell_type": "code",
      "execution_count": null,
      "metadata": {
        "id": "ccifbVPYxm7w"
      },
      "outputs": [],
      "source": [
        "  plt.figure(figsize=(10,8))\n",
        "  plt.plot(y_pred_testl[:100])\n",
        "  plt.plot((np.array(y_test)[:100]))\n",
        "  plt.legend([\"Predicted\",\"Actual\"])\n",
        "  plt.show()\n"
      ]
    },
    {
      "cell_type": "code",
      "execution_count": null,
      "metadata": {
        "id": "qBBkf6qO0wgb"
      },
      "outputs": [],
      "source": [
        "### Cross validation\n",
        "lasso = Lasso()\n",
        "parameters = {'alpha': [1e-15,1e-13,1e-10,1e-8,1e-5,1e-4,1e-3,1e-2,1e-1,1,5,10,20,30,40,45,50,55,60,100]}\n",
        "lasso_regressor = GridSearchCV(lasso, parameters, scoring='neg_mean_squared_error', cv=3)\n",
        "lasso_regressor.fit(X_train, y_train)"
      ]
    },
    {
      "cell_type": "code",
      "execution_count": null,
      "metadata": {
        "id": "XW4_vtxm0_Zx"
      },
      "outputs": [],
      "source": [
        "print(\"The best fit alpha value is found out to be :\" ,lasso_regressor.best_params_)\n",
        "print(\"\\nUsing \",lasso_regressor.best_params_, \" the negative mean squared error is: \", lasso_regressor.best_score_)"
      ]
    },
    {
      "cell_type": "code",
      "execution_count": null,
      "metadata": {
        "id": "Wuh-9QVc1IQ3"
      },
      "outputs": [],
      "source": [
        "y_pred_lasso = lasso_regressor.predict(X_test)"
      ]
    },
    {
      "cell_type": "markdown",
      "metadata": {
        "id": "M4OxZeLJ0mXN"
      },
      "source": [
        "**Ridge Regression**"
      ]
    },
    {
      "cell_type": "code",
      "execution_count": null,
      "metadata": {
        "id": "9EGuPArE0qDD"
      },
      "outputs": [],
      "source": [
        "from sklearn.linear_model import Ridge\n",
        "\n",
        "ridge  = Ridge(alpha=0.1)"
      ]
    },
    {
      "cell_type": "code",
      "execution_count": null,
      "metadata": {
        "id": "oxJQp8ce1vlV"
      },
      "outputs": [],
      "source": [
        "ridge.fit(X_train,y_train)"
      ]
    },
    {
      "cell_type": "code",
      "execution_count": null,
      "metadata": {
        "id": "asZQ4CyB1zl4"
      },
      "outputs": [],
      "source": [
        "ridge.score(X_train, y_train)"
      ]
    },
    {
      "cell_type": "code",
      "execution_count": null,
      "metadata": {
        "id": "-A4H9d_L14Oh"
      },
      "outputs": [],
      "source": [
        "y_pred_r = ridge.predict(X_test)"
      ]
    },
    {
      "cell_type": "code",
      "execution_count": null,
      "metadata": {
        "id": "k2wRiJGc2F43"
      },
      "outputs": [],
      "source": [
        "# Hyperprarameter tuning\n",
        "ridge = Ridge()\n",
        "parameters = {'alpha': [1e-15,1e-10,1e-8,1e-5,1e-4,1e-3,1e-2,1,5,10,20,30,40,45,50,55,60,100]}\n",
        "ridge_regressor = GridSearchCV(ridge, parameters, scoring='neg_mean_squared_error', cv=3)\n",
        "ridge_regressor.fit(X_train,y_train)"
      ]
    },
    {
      "cell_type": "code",
      "execution_count": null,
      "metadata": {
        "id": "57Ta8s1n2Qi6"
      },
      "outputs": [],
      "source": [
        "print(\"The best fit alpha value is found out to be :\" ,ridge_regressor.best_params_)\n",
        "print(\"\\nUsing \",ridge_regressor.best_params_, \" the negative mean squared error is: \", ridge_regressor.best_score_)"
      ]
    },
    {
      "cell_type": "code",
      "execution_count": null,
      "metadata": {
        "id": "PwTH4EGl2Uj-"
      },
      "outputs": [],
      "source": [
        "#Model Prediction\n",
        "y_pred_ridge = ridge_regressor.predict(X_test)"
      ]
    },
    {
      "cell_type": "code",
      "execution_count": null,
      "metadata": {
        "id": "dLSvjvBJOngw"
      },
      "outputs": [],
      "source": [
        "MSE_ridge = mean_squared_error(y_test, y_pred_ridge)\n",
        "MSE.append(MSE_ridge)\n",
        "\n",
        "RMSE_ridge = math.sqrt(mean_squared_error(y_test, y_pred_ridge))\n",
        "RMSE.append(RMSE_ridge)\n",
        "\n",
        "R2_ridge = r2_score(y_test, y_pred_ridge)\n",
        "R2.append(R2_ridge)\n",
        "\n",
        "adj_r2_ridge =1-(1-r2_score(y_test,y_pred_ridge))*((X_test.shape[0]-1)/(X_test.shape[0]-X_test.shape[1]-1))\n",
        "Adj_R2.append(adj_r2_ridge)\n",
        "\n",
        "print(f\"MSE:{MSE_ridge},RMSE:{RMSE_ridge},R2:{R2_ridge},Adj_R2:{adj_r2_ridge}\")"
      ]
    },
    {
      "cell_type": "code",
      "execution_count": null,
      "metadata": {
        "id": "5SwXrfiz2lTX"
      },
      "outputs": [],
      "source": [
        "  plt.figure(figsize=(10,8))\n",
        "  plt.plot(y_pred_ridge[:100])\n",
        "  plt.plot((np.array(y_test)[:100]))\n",
        "  plt.legend([\"Predicted\",\"Actual\"])\n",
        "  plt.show()"
      ]
    },
    {
      "cell_type": "markdown",
      "metadata": {
        "id": "BwPIXdnq3Dz-"
      },
      "source": [
        "**Elastic net Regression**"
      ]
    },
    {
      "cell_type": "code",
      "execution_count": null,
      "metadata": {
        "id": "Bkojhd583Bgc"
      },
      "outputs": [],
      "source": [
        "from sklearn.linear_model import ElasticNet\n",
        "#a * L1 + b * L2\n",
        "#alpha = a + b and l1_ratio = a / (a + b)\n",
        "elasticnet = ElasticNet(alpha=0.1, l1_ratio=0.5)"
      ]
    },
    {
      "cell_type": "code",
      "execution_count": null,
      "metadata": {
        "id": "wwGZgDqo3KSc"
      },
      "outputs": [],
      "source": [
        "elasticnet.fit(X_train,y_train)"
      ]
    },
    {
      "cell_type": "code",
      "execution_count": null,
      "metadata": {
        "id": "HhVIBoda3Pjq"
      },
      "outputs": [],
      "source": [
        "elasticnet.score(X_train, y_train)"
      ]
    },
    {
      "cell_type": "code",
      "execution_count": null,
      "metadata": {
        "id": "vYHbtoS33Srh"
      },
      "outputs": [],
      "source": [
        "y_pred_en = elasticnet.predict(X_test)"
      ]
    },
    {
      "cell_type": "code",
      "execution_count": null,
      "metadata": {
        "id": "litF8CZG3m9k"
      },
      "outputs": [],
      "source": [
        "#cross validation\n",
        "elastic = ElasticNet()\n",
        "parameters = {'alpha': [1e-15,1e-13,1e-10,1e-8,1e-5,1e-4,1e-3,1e-2,1e-1,1,5,10,20,30,40,45,50,55,60,100],'l1_ratio':[0.3,0.4,0.5,0.6,0.7,0.8]}\n",
        "elastic_regressor = GridSearchCV(elastic, parameters, scoring='neg_mean_squared_error',cv=5)\n",
        "elastic_regressor.fit(X_train, y_train)"
      ]
    },
    {
      "cell_type": "code",
      "execution_count": null,
      "metadata": {
        "id": "EKJnreoB36Ey"
      },
      "outputs": [],
      "source": [
        "y_pred_elastic = elastic_regressor.predict(X_test)"
      ]
    },
    {
      "cell_type": "code",
      "execution_count": null,
      "metadata": {
        "id": "RpGfz1cQ3-r5"
      },
      "outputs": [],
      "source": [
        "print(\"The best fit alpha value is found out to be :\" ,elastic_regressor.best_params_)\n",
        "print(\"\\nUsing \",elastic_regressor.best_params_, \" the negative mean squared error is: \", elastic_regressor.best_score_)"
      ]
    },
    {
      "cell_type": "code",
      "execution_count": null,
      "metadata": {
        "id": "jM8_kZW6PMN8"
      },
      "outputs": [],
      "source": [
        "MSE_EN = mean_squared_error(y_test, y_pred_elastic)\n",
        "MSE.append(MSE_EN)\n",
        "\n",
        "RMSE_EN = math.sqrt(mean_squared_error(y_test, y_pred_elastic))\n",
        "RMSE.append(RMSE_EN)\n",
        "\n",
        "R2_EN = r2_score(y_test, y_pred_elastic)\n",
        "R2.append(R2_EN)\n",
        "\n",
        "adj_r2_EN =1-(1-r2_score(y_test,y_pred_elastic))*((X_test.shape[0]-1)/(X_test.shape[0]-X_test.shape[1]-1))\n",
        "Adj_R2.append(adj_r2_EN)\n",
        "\n",
        "print(f\"MSE:{MSE_EN},RMSE:{RMSE_EN},R2:{R2_EN},Adj_R2:{adj_r2_EN}\")"
      ]
    },
    {
      "cell_type": "code",
      "execution_count": null,
      "metadata": {
        "id": "5HSsDYxa4Q6y"
      },
      "outputs": [],
      "source": [
        "### Heteroscedasticity\n",
        "plt.scatter((y_pred_lasso),(y_test)-(y_pred_lasso))"
      ]
    },
    {
      "cell_type": "code",
      "execution_count": null,
      "metadata": {
        "id": "DglBfx1v4_Pu"
      },
      "outputs": [],
      "source": [
        "  plt.figure(figsize=(10,8))\n",
        "  plt.plot(y_pred_elastic[:100])\n",
        "  plt.plot((np.array(y_test)[:100]))\n",
        "  plt.legend([\"Predicted\",\"Actual\"])\n",
        "  plt.show()"
      ]
    },
    {
      "cell_type": "markdown",
      "metadata": {
        "id": "Fze-IPXLpx6K"
      },
      "source": [
        "# Decision Tree"
      ]
    },
    {
      "cell_type": "code",
      "execution_count": null,
      "metadata": {
        "id": "BtN6ytAEW4tT"
      },
      "outputs": [],
      "source": [
        "rental_bike_df.shape"
      ]
    },
    {
      "cell_type": "code",
      "execution_count": null,
      "metadata": {
        "id": "FFrSXAtrpx6M"
      },
      "outputs": [],
      "source": [
        "from sklearn.tree import DecisionTreeRegressor"
      ]
    },
    {
      "cell_type": "code",
      "execution_count": null,
      "metadata": {
        "id": "kGA2W_aq7vB_"
      },
      "outputs": [],
      "source": [
        "decisionTree = DecisionTreeRegressor()\n",
        "\n",
        "param = {'max_depth' : [1,4,5,6,7]}\n",
        "\n",
        "gridSearch_decisionTree=GridSearchCV(decisionTree,param,scoring='r2',cv=5)\n",
        "gridSearch_decisionTree.fit(X_train,y_train)\n",
        "\n",
        "decisionTree.fit(X_train,y_train)\n",
        "best_DecisionTree=gridSearch_decisionTree.best_estimator_\n",
        "bestDecisionTree_testScore=best_DecisionTree.score(X_test,y_test)"
      ]
    },
    {
      "cell_type": "code",
      "execution_count": null,
      "metadata": {
        "id": "XYDNyUDWSU15"
      },
      "outputs": [],
      "source": [
        "y_pred_DT = gridSearch_decisionTree.predict(X_test)"
      ]
    },
    {
      "cell_type": "code",
      "execution_count": null,
      "metadata": {
        "id": "rbNuQfeb9JGD"
      },
      "outputs": [],
      "source": [
        "# extracting best parameters\n",
        "\n",
        "print(f\"The best Decision Tree R2 score is {gridSearch_decisionTree.best_score_} with max depth {gridSearch_decisionTree.best_params_['max_depth']}\")\n",
        "print('\\n')\n",
        "print(f\"The best R2 test score is : {bestDecisionTree_testScore} with max depth = {gridSearch_decisionTree.best_params_['max_depth']}\")"
      ]
    },
    {
      "cell_type": "code",
      "execution_count": null,
      "metadata": {
        "id": "em1T8pH5PyZZ"
      },
      "outputs": [],
      "source": [
        "MSE_DT = mean_squared_error(y_test, y_pred_DT)\n",
        "MSE.append(MSE_DT)\n",
        "\n",
        "RMSE_DT = math.sqrt(mean_squared_error(y_test, y_pred_DT))\n",
        "RMSE.append(RMSE_DT)\n",
        "\n",
        "R2_DT = r2_score(y_test, y_pred_DT)\n",
        "R2.append(R2_DT)\n",
        "\n",
        "adj_r2_DT =1-(1-r2_score(y_test,y_pred_DT))*((X_test.shape[0]-1)/(X_test.shape[0]-X_test.shape[1]-1))\n",
        "Adj_R2.append(adj_r2_DT)\n",
        "\n",
        "print(f\"MSE:{MSE_DT},RMSE:{RMSE_DT},R2:{R2_DT},Adj_R2:{adj_r2_DT}\")"
      ]
    },
    {
      "cell_type": "code",
      "execution_count": null,
      "metadata": {
        "id": "6Mvy9a-v9-qx"
      },
      "outputs": [],
      "source": [
        "  plt.figure(figsize=(10,8))\n",
        "  plt.plot(y_pred_DT[:100])\n",
        "  plt.plot((np.array(y_test)[:100]))\n",
        "  plt.legend([\"Predicted\",\"Actual\"])\n",
        "  plt.show()"
      ]
    },
    {
      "cell_type": "code",
      "execution_count": null,
      "metadata": {
        "id": "tRAqkiIz_Tbp"
      },
      "outputs": [],
      "source": [
        "def get_features_importance (optimal_model,X_train):\n",
        "  \n",
        "  #shows the graph of feature importance\n",
        "  \n",
        "  features = X_train.columns\n",
        "  importances = optimal_model.feature_importances_\n",
        "  indices = np.argsort(importances)\n",
        "\n",
        "  plt.figure(figsize=(15,10))\n",
        "  plt.title('Feature Importance')\n",
        "  plt.barh(range(len(indices)), importances[indices], color='red', align='center')\n",
        "  plt.yticks(range(len(indices)), [features[i] for i in indices])\n",
        "  plt.xlabel('Relative Importance')\n",
        "\n",
        "  plt.show()\n"
      ]
    },
    {
      "cell_type": "markdown",
      "metadata": {
        "id": "dTL3n02cAvov"
      },
      "source": [
        "# Random Forest"
      ]
    },
    {
      "cell_type": "code",
      "execution_count": null,
      "metadata": {
        "id": "FwWTY5VXA1Nu"
      },
      "outputs": [],
      "source": [
        "# Fitting Random Forest Regression to the dataset\n",
        "# import the regressor\n",
        "from sklearn.ensemble import RandomForestRegressor\n",
        "  \n",
        " # create regressor object\n",
        "regressor = RandomForestRegressor(n_estimators = 100, random_state = 0)\n",
        "  \n",
        "# fit the regressor with x and y data\n",
        "regressor.fit(X_train,y_train)"
      ]
    },
    {
      "cell_type": "code",
      "execution_count": null,
      "metadata": {
        "id": "p6D908NPt8aS"
      },
      "outputs": [],
      "source": [
        "Y_train_pred_RF = regressor.predict(X_train) \n",
        "\n",
        "Y_test_pred_RF = regressor.predict(X_test)"
      ]
    },
    {
      "cell_type": "code",
      "execution_count": null,
      "metadata": {
        "id": "2fIzFAzVgUDL"
      },
      "outputs": [],
      "source": [
        "y_test"
      ]
    },
    {
      "cell_type": "code",
      "execution_count": null,
      "metadata": {
        "id": "DfQJVY95gcrt"
      },
      "outputs": [],
      "source": [
        "Y_test_pred_RF"
      ]
    },
    {
      "cell_type": "code",
      "execution_count": null,
      "metadata": {
        "id": "IuG_rIWZQgkC"
      },
      "outputs": [],
      "source": [
        "MSE_RF = mean_squared_error(y_test, Y_test_pred_RF)\n",
        "MSE.append(MSE_RF)\n",
        "\n",
        "RMSE_RF = math.sqrt(mean_squared_error(y_test, Y_test_pred_RF))\n",
        "RMSE.append(RMSE_RF)\n",
        "\n",
        "R2_RF = r2_score(y_test, Y_test_pred_RF)\n",
        "R2.append(R2_RF)\n",
        "\n",
        "adj_r2_RF =1-(1-r2_score(y_test,Y_test_pred_RF))*((X_test.shape[0]-1)/(X_test.shape[0]-X_test.shape[1]-1))\n",
        "Adj_R2.append(adj_r2_RF)\n",
        "\n",
        "print(f\"MSE:{MSE_RF},RMSE:{RMSE_RF},R2:{R2_RF},Adj_R2:{adj_r2_RF}\")"
      ]
    },
    {
      "cell_type": "code",
      "execution_count": null,
      "metadata": {
        "id": "-fQMACwiG1vO"
      },
      "outputs": [],
      "source": [
        "plt.figure(figsize=(10,8))\n",
        "plt.plot(Y_test_pred_RF[:100])\n",
        "plt.plot((np.array(y_test)[:100]))\n",
        "plt.legend([\"Predicted\",\"Actual\"])\n",
        "plt.show()"
      ]
    },
    {
      "cell_type": "markdown",
      "metadata": {
        "id": "-G8yskoehjl6"
      },
      "source": [
        "# XGBoost Regression"
      ]
    },
    {
      "cell_type": "code",
      "execution_count": null,
      "metadata": {
        "id": "pCKhWfURh4Je"
      },
      "outputs": [],
      "source": [
        "from xgboost import XGBRegressor"
      ]
    },
    {
      "cell_type": "code",
      "execution_count": null,
      "metadata": {
        "id": "e-3cuXXwh60D"
      },
      "outputs": [],
      "source": [
        "xgb = XGBRegressor()\n",
        "xgb.fit(X_train,y_train)"
      ]
    },
    {
      "cell_type": "code",
      "execution_count": null,
      "metadata": {
        "id": "2A-p9ybwh-wq"
      },
      "outputs": [],
      "source": [
        "y_train_pred_xgb = xgb.predict(X_train)\n",
        "y_test_pred_xgb = xgb.predict(X_test)"
      ]
    },
    {
      "cell_type": "code",
      "execution_count": null,
      "metadata": {
        "id": "aZMDuE9nROnr"
      },
      "outputs": [],
      "source": [
        "MSE_xgb = mean_squared_error(y_test, y_test_pred_xgb)\n",
        "MSE.append(MSE_xgb)\n",
        "\n",
        "RMSE_xgb = math.sqrt(mean_squared_error(y_test, y_test_pred_xgb))\n",
        "RMSE.append(RMSE_xgb)\n",
        "\n",
        "R2_xgb = r2_score(y_test, y_test_pred_xgb)\n",
        "R2.append(R2_xgb)\n",
        "\n",
        "adj_r2_xgb =1-(1-r2_score(y_test,y_test_pred_xgb))*((X_test.shape[0]-1)/(X_test.shape[0]-X_test.shape[1]-1))\n",
        "Adj_R2.append(adj_r2_xgb)\n",
        "\n",
        "print(f\"MSE:{MSE_xgb},RMSE:{RMSE_xgb},R2:{R2_xgb},Adj_R2:{adj_r2_xgb}\")"
      ]
    },
    {
      "cell_type": "code",
      "execution_count": null,
      "metadata": {
        "id": "8T4aihHDiLb7"
      },
      "outputs": [],
      "source": [
        "plt.figure(figsize=(10,8))\n",
        "plt.plot(y_test_pred_xgb[:100])\n",
        "plt.plot((np.array(y_test)[:100]))\n",
        "plt.legend([\"Predicted\",\"Actual\"])\n",
        "plt.show()"
      ]
    },
    {
      "cell_type": "markdown",
      "metadata": {
        "id": "5By8RRjNQDlq"
      },
      "source": [
        "# LightGBM Model"
      ]
    },
    {
      "cell_type": "code",
      "execution_count": null,
      "metadata": {
        "id": "9quK19BjQVcC"
      },
      "outputs": [],
      "source": [
        "import lightgbm as lgb"
      ]
    },
    {
      "cell_type": "code",
      "execution_count": null,
      "metadata": {
        "id": "YJdJS9T5QX6T"
      },
      "outputs": [],
      "source": [
        "lgbr=lgb.LGBMRegressor()"
      ]
    },
    {
      "cell_type": "code",
      "execution_count": null,
      "metadata": {
        "id": "WHnGxMe4Qbl6"
      },
      "outputs": [],
      "source": [
        "# finding the best parameters for XGBRegressor by gridsearchcv\n",
        "lgbr_para={'n_estimators': [150,200,250],'max_depth': [7,10,13]}\n",
        "lgbr_grid=GridSearchCV(estimator=lgbr,param_grid=lgbr_para,cv=5,scoring='neg_mean_squared_error',verbose=5,n_jobs=-1)"
      ]
    },
    {
      "cell_type": "code",
      "execution_count": null,
      "metadata": {
        "id": "cwIzSfEVQ152"
      },
      "outputs": [],
      "source": [
        "lgbr_grid.fit(X_train,y_train)"
      ]
    },
    {
      "cell_type": "code",
      "execution_count": null,
      "metadata": {
        "id": "kJB_dVDtR865"
      },
      "outputs": [],
      "source": [
        "y_train_pred_lgbr = lgbr_grid.predict(X_train)\n",
        "y_test_pred_lgbr = lgbr_grid.predict(X_test)"
      ]
    },
    {
      "cell_type": "code",
      "source": [
        "y_train_pred_lgbr"
      ],
      "metadata": {
        "id": "beMYLUR_bRGC"
      },
      "execution_count": null,
      "outputs": []
    },
    {
      "cell_type": "code",
      "source": [
        "y_test_pred_lgbr"
      ],
      "metadata": {
        "id": "2ziz2NI5bTrX"
      },
      "execution_count": null,
      "outputs": []
    },
    {
      "cell_type": "code",
      "execution_count": null,
      "metadata": {
        "id": "ynF_onvQSi6X"
      },
      "outputs": [],
      "source": [
        "MSE_lgbr = mean_squared_error(y_test, y_test_pred_lgbr)\n",
        "MSE.append(MSE_lgbr)\n",
        "\n",
        "RMSE_lgbr = math.sqrt(mean_squared_error(y_test, y_test_pred_lgbr))\n",
        "RMSE.append(RMSE_lgbr)\n",
        "\n",
        "R2_lgbr = r2_score(y_test, y_test_pred_lgbr)\n",
        "R2.append(R2_lgbr)\n",
        "\n",
        "adj_r2_lgbr =1-(1-r2_score(y_test,y_test_pred_lgbr))*((X_test.shape[0]-1)/(X_test.shape[0]-X_test.shape[1]-1))\n",
        "Adj_R2.append(adj_r2_lgbr)\n",
        "\n",
        "print(f\"MSE:{MSE_lgbr},RMSE:{RMSE_lgbr},R2:{R2_lgbr},Adj_R2:{adj_r2_lgbr}\")"
      ]
    },
    {
      "cell_type": "code",
      "execution_count": null,
      "metadata": {
        "id": "8GXJRHVXVcxS"
      },
      "outputs": [],
      "source": [
        "plt.figure(figsize=(10,8))\n",
        "plt.plot(y_test_pred_lgbr[:100])\n",
        "plt.plot((np.array(y_test)[:100]))\n",
        "plt.legend([\"Predicted\",\"Actual\"])\n",
        "plt.show()"
      ]
    },
    {
      "cell_type": "code",
      "execution_count": null,
      "metadata": {
        "id": "RInf0tWmWgaS"
      },
      "outputs": [],
      "source": [
        "def get_features_importance (optimal_model,X_train):\n",
        "  '''\n",
        "  shows the graph of feature importance\n",
        "  '''\n",
        "  features = pd.DataFrame(X_train).describe().columns\n",
        "  importances = optimal_model.feature_importances_\n",
        "  indices = np.argsort(importances)\n",
        "\n",
        "  plt.figure(figsize=(15,10))\n",
        "  plt.title('Feature Importance')\n",
        "  plt.barh(range(len(indices)), importances[indices], color='green', align='center')\n",
        "  plt.yticks(range(len(indices)), [independent_variables[i] for i in indices])\n",
        "  plt.xlabel('Relative Importance')\n",
        "  plt.show()"
      ]
    },
    {
      "cell_type": "code",
      "execution_count": null,
      "metadata": {
        "id": "siDYkpC3Wfiy"
      },
      "outputs": [],
      "source": [
        "#getting and visualizing features importance of LightGBM model\n",
        "get_features_importance(lgbr_grid.best_estimator_,X_train)"
      ]
    },
    {
      "cell_type": "markdown",
      "metadata": {
        "id": "16gtZAn1gEdg"
      },
      "source": [
        "# Different Model Metrices "
      ]
    },
    {
      "cell_type": "code",
      "execution_count": null,
      "metadata": {
        "id": "CcwnM8RcHPdC"
      },
      "outputs": [],
      "source": [
        "all_model_matrices={'Mean_square_error':MSE,'Root_Mean_square_error':RMSE,'R2':R2,'Adjusted_R2':Adj_R2}\n",
        "model_name=['Linear','Lasso','Ridge','Elasticnet','Decision_Tree','Random_Forest','xgboost','LightGBM']\n",
        "\n",
        "matrices_df=pd.DataFrame.from_dict(all_model_matrices,orient=\"index\",columns=model_name)"
      ]
    },
    {
      "cell_type": "code",
      "execution_count": null,
      "metadata": {
        "id": "LnRMB3CdPgkD"
      },
      "outputs": [],
      "source": [
        "matrices_df"
      ]
    },
    {
      "cell_type": "markdown",
      "metadata": {
        "id": "hOX5rHjOgQrM"
      },
      "source": [
        "# Model Explainability"
      ]
    },
    {
      "cell_type": "markdown",
      "metadata": {
        "id": "b7CAAaQgg3Ci"
      },
      "source": [
        "## Shap"
      ]
    },
    {
      "cell_type": "code",
      "execution_count": null,
      "metadata": {
        "id": "MzRxYmBfQJ52"
      },
      "outputs": [],
      "source": [
        "!pip install shap"
      ]
    },
    {
      "cell_type": "code",
      "execution_count": null,
      "metadata": {
        "id": "U3dVOjgMgjOZ"
      },
      "outputs": [],
      "source": [
        "from sklearn.tree import export_graphviz\n",
        "import shap \n",
        "sns.set_style('darkgrid')"
      ]
    },
    {
      "cell_type": "code",
      "execution_count": null,
      "metadata": {
        "id": "1rhoLTxDgn38"
      },
      "outputs": [],
      "source": [
        "for_instance=2"
      ]
    },
    {
      "cell_type": "code",
      "execution_count": null,
      "metadata": {
        "id": "liT3J77Zgtgd"
      },
      "outputs": [],
      "source": [
        "#shap for lightGBM model\n",
        "# Initialize JavaScript visualizations in notebook environment\n",
        "shap.initjs()\n",
        "# Define a tree explainer for the built model\n",
        "explainer = shap.TreeExplainer(lgbr_grid.best_estimator_)\n",
        "# obtain shap values for the first row of the test data\n",
        "shap_values = explainer(X_test,check_additivity=False)\n",
        "# # visualize the first prediction's explanation with a force plot\n",
        "shap.plots.force(shap_values[for_instance])"
      ]
    },
    {
      "cell_type": "markdown",
      "metadata": {
        "id": "zFDUsA1xg8Wz"
      },
      "source": [
        "## ELI 5"
      ]
    },
    {
      "cell_type": "code",
      "execution_count": null,
      "metadata": {
        "id": "0U-WMhkkg_tV"
      },
      "outputs": [],
      "source": [
        "pip install eli5"
      ]
    },
    {
      "cell_type": "code",
      "execution_count": null,
      "metadata": {
        "id": "j6x0HhXLhK5_"
      },
      "outputs": [],
      "source": [
        "import eli5 as eli"
      ]
    },
    {
      "cell_type": "code",
      "execution_count": null,
      "metadata": {
        "id": "23OSVOpHh_PF"
      },
      "outputs": [],
      "source": [
        "for_instance=2"
      ]
    },
    {
      "cell_type": "code",
      "execution_count": null,
      "metadata": {
        "id": "LGJHRK-WhP7_"
      },
      "outputs": [],
      "source": [
        "eli.show_prediction(lgbr_grid.best_estimator_, pd.DataFrame(X_test).reset_index(drop=True).loc[[for_instance]],\n",
        "                    feature_names=independent_variables[:],\n",
        "                    show_feature_values=True)"
      ]
    },
    {
      "cell_type": "markdown",
      "source": [
        "\n",
        "\n",
        "1.   The green color shows how much the feature contributes to the prediction of the respective class and the weights are positive for the green color.\n",
        "\n",
        "2. The red color has negative weights that indicate the feature isn't contributing to the prediction of that class.\n",
        "\n",
        "3. It can be observed from the above output, eli5 shows us the contribution of each feature in predicting the output.\n"
      ],
      "metadata": {
        "id": "nqT8WxJvn_EG"
      }
    },
    {
      "cell_type": "markdown",
      "metadata": {
        "id": "gCX9965dhzqZ"
      },
      "source": [
        "# **Conclusion**"
      ]
    },
    {
      "cell_type": "markdown",
      "metadata": {
        "id": "Fjb1IsQkh3yE"
      },
      "source": [
        "## Data Exploration Conclusions\n",
        "\n",
        "In this project, we explored several types of informations that influence bike rental count. Below is a quick summary of exploratory data analysis\n",
        "conclusions from above pie chart:\n",
        "\n",
        " **Season:** Most bikes have been rented in the summer season.least bike rent count is in winter season.autumn and spring seasons have almost equal amounts of bike rent count.\n",
        "\n",
        " **YearwiseRentedBikeCount:** Most of the bikes have been rented in the year 2018.\n",
        "\n",
        "**MonthwiseRentedBikeCount in year 2018:**Very less bikes have been rented in december which is winter season.\n",
        "\n",
        "**Intensities of Rainfall:**People tend to rent bikes when there is no or less rainfall.\n",
        "\n",
        "**Intensities of Snowfall:**People tend to rent bikes when there is no or less snowfall.\n",
        "\n",
        "**Temperature:** People generally prefer to bike at moderate to high temperatures. We see highest rental counts between 25 to 36 degree celcius.\n",
        "\n",
        "**Visibility Range:** people tend to rent bikes when the visibility is between 300 to 1700.\n",
        "\n",
        "**Working or Non-working Day:** We see 2 rental patterns across the day in bike rentals count - first for a Working Day where the rental count high at peak office hours (8am and 5pm) and the second for a Non-working day where rental count is more or less uniform across the day with a peak at around noon.\n",
        "\n",
        "**Hour of the day:** Bike rental count is mostly correlated with the time of the day. As indicated above, the count reaches a high point during peak hours on a working day and is mostly uniform during the day on a non-working day.\n",
        "\n",
        "\n",
        "#Modelling Conclusions:\n",
        "\n",
        "We used 6 Regression Models to predict the bike rental count at any hour of the day - Linear Regression, Ridge, Lasso, Random Forest,XG Boost and LightGBM Model.\n",
        "\n",
        "**Below is a summary of the model performances:**\n",
        "\n",
        "Of all the models, we found a LightGBM Model providing the best/lowest RMSE score and highest R^2 score.\n",
        "Hour of the day is the most important feature in the respect of all independent feature which provide highest bike rented count.\n",
        "Thus, we have successfully built predictive models that can predict the demand for rental bikes based on different weather conditions and all other features. \n",
        " If the model interpretability is important to the stakeholders, we can choose deploy the Light GBM model.\n",
        "\n",
        "\n"
      ]
    }
  ],
  "metadata": {
    "colab": {
      "provenance": [],
      "include_colab_link": true
    },
    "gpuClass": "standard",
    "kernelspec": {
      "display_name": "Python 3",
      "name": "python3"
    },
    "language_info": {
      "name": "python"
    }
  },
  "nbformat": 4,
  "nbformat_minor": 0
}